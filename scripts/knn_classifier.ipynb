{
 "cells": [
  {
   "cell_type": "markdown",
   "metadata": {},
   "source": [
    "\n",
    "# Construção de um Classificador Binário baseado no algoritmo KNN\n"
   ]
  },
  {
   "cell_type": "markdown",
   "metadata": {},
   "source": [
    "## Dependências necessárias"
   ]
  },
  {
   "cell_type": "code",
   "execution_count": null,
   "metadata": {},
   "outputs": [],
   "source": [
    "# In[50]:\n",
    "from __future__ import absolute_import, division, print_function\n",
    "import pandas as pd\n",
    "import nltk  \n",
    "import numpy as np  \n",
    "nltk.download('punkt')\n",
    "nltk.download('stopwords')\n",
    "from nltk.stem.snowball import SnowballStemmer\n",
    "import heapq\n",
    "import re  \n",
    "import io\n",
    "import math\n",
    "import csv\n",
    "# Helper libraries\n",
    "import matplotlib.pyplot as plt\n",
    "import seaborn as sns\n",
    "import functools\n",
    "import operator\n",
    "import PIL\n",
    "import tqdm\n",
    "import tqdm.auto\n",
    "from sklearn.metrics import confusion_matrix\n",
    "from sklearn.model_selection import train_test_split\n",
    "from IPython.display import display\n",
    "import os"
   ]
  },
  {
   "cell_type": "markdown",
   "metadata": {},
   "source": [
    "## Carregando variáveis de ambiente"
   ]
  },
  {
   "cell_type": "code",
   "execution_count": 4,
   "metadata": {},
   "outputs": [
    {
     "name": "stdout",
     "output_type": "stream",
     "text": [
      "Nome do arquivo que contém o dataset: locations_to_be_labeled.csv\n"
     ]
    }
   ],
   "source": [
    "os.environ['TF_CPP_MIN_LOG_LEVEL'] = '2'\n",
    "\n",
    "# ENV_DATASET_FILENAME = os.environ['INPUT_DATASET_FILENAME']\n",
    "ENV_DATASET_FILENAME = \"locations_to_be_labeled.csv\"\n",
    "\n",
    "nameOfTheFile = ENV_DATASET_FILENAME\n",
    "print(\"Nome do arquivo que contém o dataset: \" + nameOfTheFile)"
   ]
  },
  {
   "cell_type": "markdown",
   "metadata": {},
   "source": [
    "## Preparação do conjunto de dados"
   ]
  },
  {
   "cell_type": "markdown",
   "metadata": {},
   "source": [
    "### Carregando o Dataset"
   ]
  },
  {
   "cell_type": "code",
   "execution_count": 9,
   "metadata": {},
   "outputs": [
    {
     "name": "stdout",
     "output_type": "stream",
     "text": [
      "Quantidade de perguntas: 1500\n",
      "\n",
      "Tweet:\n",
      "\n",
      "- com o cara faixapreta que venceu a dengue ducatambasco haha foi muito bom te rever brother\n",
      "- dengue me pegou dnv\n",
      "- prefeitura de santa cruz divulga plano de ação de enfrentamento a dengue chicungunya e zika\n",
      "- seguimos na luta contra a dengue chikungunya e o zika vírus com essas três doenças não dá para\n",
      "- g1 pr segunda morte por dengue em paranaguá é confirmada pela saúde  g1 \n",
      "...\n",
      "\n",
      "\n",
      "Respostas:\n",
      "\n",
      "- 1\n",
      "- 1\n",
      "- 0\n",
      "- 0\n",
      "- 1\n",
      "...\n"
     ]
    }
   ],
   "source": [
    "# Lendo as features\n",
    "questions = pd.read_csv(\"../\" + nameOfTheFile, header=0, usecols=[0])\n",
    "listOfQuestions = []\n",
    "for row in questions.values:\n",
    "    listOfQuestions.append(list(row)[0])\n",
    "\n",
    "print(\"Quantidade de perguntas: \" + str(len(listOfQuestions)) + \"\\n\")\n",
    "print(\"Tweet:\\n\")\n",
    "for pergunta in listOfQuestions[0:5]:\n",
    "    print(\"- \" + pergunta)\n",
    "print(\"...\")\n",
    "print(\"\\n\")\n",
    "\n",
    "# Lendo as labels\n",
    "answers = pd.read_csv(\"../\" + nameOfTheFile, header=0, usecols=[1])\n",
    "listOfAnswers = []\n",
    "for answer in answers.values:\n",
    "    listOfAnswers.append(list(answer)[0])\n",
    "print(\"Respostas:\\n\")\n",
    "for label in listOfAnswers[0:5]:\n",
    "    print(\"- \" + str(label))\n",
    "print(\"...\")"
   ]
  },
  {
   "cell_type": "markdown",
   "metadata": {},
   "source": [
    "### Transformando as labels\n",
    "\n",
    "Essa transformação vai trocar as labels de número para texto, com o objetivo de facilitar a compreensão e leitura de resultados.\n",
    "0 - generico\n",
    "1 - doente"
   ]
  },
  {
   "cell_type": "code",
   "execution_count": 10,
   "metadata": {},
   "outputs": [
    {
     "name": "stdout",
     "output_type": "stream",
     "text": [
      "['doente', 'doente', 'generico', 'generico', 'doente']\n"
     ]
    }
   ],
   "source": [
    "label_palavras = []\n",
    "for item in listOfAnswers:\n",
    "    if item==0:\n",
    "        label_palavras.append(\"generico\")\n",
    "    else:\n",
    "        label_palavras.append(\"doente\")\n",
    "print(label_palavras[0:5])\n",
    "listOfAnswers = label_palavras"
   ]
  },
  {
   "cell_type": "markdown",
   "metadata": {},
   "source": [
    "### Remoção de espaçamentos extras, caracteres especiais e pontuações"
   ]
  },
  {
   "cell_type": "code",
   "execution_count": 11,
   "metadata": {},
   "outputs": [
    {
     "name": "stdout",
     "output_type": "stream",
     "text": [
      "- com o cara faixapreta que venceu a dengue ducatambasco haha foi muito bom te rever brother\n",
      "- dengue me pegou dnv\n",
      "- prefeitura de santa cruz divulga plano de ação de enfrentamento a dengue chicungunya e zika\n",
      "- seguimos na luta contra a dengue chikungunya e o zika vírus com essas três doenças não dá para\n",
      "- g1 pr segunda morte por dengue em paranaguá é confirmada pela saúde g1 \n",
      "...\n"
     ]
    }
   ],
   "source": [
    "for i in range(len(listOfQuestions)):\n",
    "    listOfQuestions [i] = listOfQuestions [i].lower()\n",
    "    listOfQuestions [i] = re.sub(r'\\W',' ',listOfQuestions [i])\n",
    "    listOfQuestions [i] = re.sub(r'\\s+',' ',listOfQuestions [i])\n",
    "\n",
    "for question in listOfQuestions[0:5]:\n",
    "    print(\"- \" + question)\n",
    "print(\"...\")"
   ]
  },
  {
   "cell_type": "markdown",
   "metadata": {},
   "source": [
    "### Tokenização dos tweets"
   ]
  },
  {
   "cell_type": "code",
   "execution_count": 12,
   "metadata": {},
   "outputs": [
    {
     "name": "stdout",
     "output_type": "stream",
     "text": [
      "- ['com', 'o', 'cara', 'faixapreta', 'que', 'venceu', 'a', 'dengue', 'ducatambasco', 'haha', 'foi', 'muito', 'bom', 'te', 'rever', 'brother']\n",
      "- ['dengue', 'me', 'pegou', 'dnv']\n",
      "- ['prefeitura', 'de', 'santa', 'cruz', 'divulga', 'plano', 'de', 'ação', 'de', 'enfrentamento', 'a', 'dengue', 'chicungunya', 'e', 'zika']\n",
      "- ['seguimos', 'na', 'luta', 'contra', 'a', 'dengue', 'chikungunya', 'e', 'o', 'zika', 'vírus', 'com', 'essas', 'três', 'doenças', 'não', 'dá', 'para']\n",
      "- ['g1', 'pr', 'segunda', 'morte', 'por', 'dengue', 'em', 'paranaguá', 'é', 'confirmada', 'pela', 'saúde', 'g1']\n",
      "...\n"
     ]
    }
   ],
   "source": [
    "def tokenize_sentences(listOfSentences):\n",
    "    listOfSentencesInTokens = []\n",
    "    for i in range(len(listOfSentences)):\n",
    "        tokens = nltk.word_tokenize(listOfSentences[i])\n",
    "        listOfSentencesInTokens.append(tokens)\n",
    "    return listOfSentencesInTokens\n",
    "\n",
    "\n",
    "listOfTokenizedQuestions = tokenize_sentences(listOfQuestions)\n",
    "for tokenizedItem in listOfTokenizedQuestions[0:5]:\n",
    "      print(\"- \" + str(tokenizedItem))\n",
    "print(\"...\")"
   ]
  },
  {
   "cell_type": "markdown",
   "metadata": {},
   "source": [
    "### Remoção das stop-words"
   ]
  },
  {
   "cell_type": "code",
   "execution_count": null,
   "metadata": {},
   "outputs": [],
   "source": [
    "stopwords = nltk.corpus.stopwords.words('portuguese')\n",
    "stopwords[:10]\n",
    "print(\"Tamanho das stop-words: \" + str(len(stopwords)))\n",
    "\n",
    "def remove_stop_words(listOfTokenizedSentences):\n",
    "  sentencesWithNoStopWords = []\n",
    "  for i in range(len(listOfTokenizedSentences)):\n",
    "    sentenceWithNoStopWord = []\n",
    "    for j in range(len(listOfTokenizedSentences[i])):\n",
    "            if(listOfTokenizedSentences[i][j] not in stopwords):\n",
    "                sentenceWithNoStopWord.append(listOfTokenizedSentences[i][j])\n",
    "    sentencesWithNoStopWords.append(sentenceWithNoStopWord)\n",
    "  return sentencesWithNoStopWords\n",
    "\n",
    "listOfQuestionsWithNoStopWords = remove_stop_words(listOfTokenizedQuestions)\n",
    "print(\"Tamanho: \" + str(len(listOfQuestionsWithNoStopWords)))\n",
    "\n",
    "for itemWithNoStopWord in listOfQuestionsWithNoStopWords[0:5]:\n",
    "  print(\"- \" + str(itemWithNoStopWord))\n",
    "print(\"...\")"
   ]
  }
 ],
 "metadata": {
  "kernelspec": {
   "display_name": "Python 3",
   "language": "python",
   "name": "python3"
  },
  "language_info": {
   "codemirror_mode": {
    "name": "ipython",
    "version": 3
   },
   "file_extension": ".py",
   "mimetype": "text/x-python",
   "name": "python",
   "nbconvert_exporter": "python",
   "pygments_lexer": "ipython3",
   "version": "3.8.3"
  }
 },
 "nbformat": 4,
 "nbformat_minor": 4
}
